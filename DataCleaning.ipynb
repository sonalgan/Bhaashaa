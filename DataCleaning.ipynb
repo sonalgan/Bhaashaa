{
  "nbformat": 4,
  "nbformat_minor": 0,
  "metadata": {
    "colab": {
      "name": "DataCleaning.ipynb",
      "provenance": [],
      "collapsed_sections": [],
      "toc_visible": true,
      "authorship_tag": "ABX9TyNgGUWuw+n09i+gBrj11ptb",
      "include_colab_link": true
    },
    "kernelspec": {
      "name": "python3",
      "display_name": "Python 3"
    },
    "language_info": {
      "name": "python"
    }
  },
  "cells": [
    {
      "cell_type": "markdown",
      "metadata": {
        "id": "view-in-github",
        "colab_type": "text"
      },
      "source": [
        "<a href=\"https://colab.research.google.com/github/sonalgan/Bhaashaa/blob/main/DataCleaning.ipynb\" target=\"_parent\"><img src=\"https://colab.research.google.com/assets/colab-badge.svg\" alt=\"Open In Colab\"/></a>"
      ]
    },
    {
      "cell_type": "markdown",
      "metadata": {
        "id": "7w2Yi-ZDU2wH"
      },
      "source": [
        "## Data Cleaning for Regression"
      ]
    },
    {
      "cell_type": "code",
      "metadata": {
        "id": "IyC4zAVzQ7Ik"
      },
      "source": [
        "import pandas as pd\n",
        "import matplotlib.pyplot as plt\n",
        "import seaborn as sns\n",
        "import numpy as np"
      ],
      "execution_count": 2,
      "outputs": []
    },
    {
      "cell_type": "code",
      "metadata": {
        "id": "xma3845gRfW0"
      },
      "source": [
        "df=pd.read_csv('/content/Health Survey 2021 (Responses) - Form Responses 1.csv')"
      ],
      "execution_count": 99,
      "outputs": []
    },
    {
      "cell_type": "code",
      "metadata": {
        "id": "RxQo4j9PSF8Y"
      },
      "source": [
        "df=df[df['Informed Consent']=='Yes']\n",
        "df=df.drop(columns=['Informed Consent','Email Address','Timestamp'])\n"
      ],
      "execution_count": 100,
      "outputs": []
    },
    {
      "cell_type": "code",
      "metadata": {
        "colab": {
          "base_uri": "https://localhost:8080/"
        },
        "id": "jXLmdwnQCjmm",
        "outputId": "1886eac7-e9d2-4c2c-e557-c5ae4fe15779"
      },
      "source": [
        "df.shape"
      ],
      "execution_count": 102,
      "outputs": [
        {
          "output_type": "execute_result",
          "data": {
            "text/plain": [
              "(160, 55)"
            ]
          },
          "metadata": {},
          "execution_count": 102
        }
      ]
    },
    {
      "cell_type": "code",
      "metadata": {
        "id": "HeBe8IsTCmeh"
      },
      "source": [
        "df.info()"
      ],
      "execution_count": null,
      "outputs": []
    },
    {
      "cell_type": "code",
      "metadata": {
        "id": "adcLy_UZuT-W"
      },
      "source": [
        "depression_choices=['Not at all',\n",
        "'Just a little',\n",
        "'Somewhat',\n",
        "'Moderately',\n",
        "'Quite a lot',\n",
        "'Very much']\n",
        "depressiontest_columns=[]\n",
        "for i in df.columns[14:14+18]:\n",
        "  depressiontest_columns.append(i)"
      ],
      "execution_count": 104,
      "outputs": []
    },
    {
      "cell_type": "code",
      "metadata": {
        "id": "_VWxEsudymN7"
      },
      "source": [
        "depressiontest_columns"
      ],
      "execution_count": null,
      "outputs": []
    },
    {
      "cell_type": "code",
      "metadata": {
        "id": "UUCZFIetxhXT"
      },
      "source": [
        "for i in depressiontest_columns:\n",
        "  for j in range(len(depression_choices)):\n",
        "    df.loc[df[i]==depression_choices[j],i]=j"
      ],
      "execution_count": 106,
      "outputs": []
    },
    {
      "cell_type": "code",
      "metadata": {
        "id": "K2MgvxQxDWty"
      },
      "source": [
        "depression_scores=[]\n",
        "for i in range(len(df)):\n",
        "  score=0\n",
        "  for j in depressiontest_columns:\n",
        "    score+=df[j].iloc[i]\n",
        "  depression_scores.append(score)\n",
        "df=df.assign(DepressionScale=depression_scores)\n",
        "df=df.drop(columns=depressiontest_columns)\n"
      ],
      "execution_count": 107,
      "outputs": []
    },
    {
      "cell_type": "code",
      "metadata": {
        "id": "IVJHMJxLC4hp"
      },
      "source": [
        "df.describe()"
      ],
      "execution_count": null,
      "outputs": []
    },
    {
      "cell_type": "code",
      "metadata": {
        "id": "NQ-JSIPLaQ5B"
      },
      "source": [
        "df.isna().sum()"
      ],
      "execution_count": null,
      "outputs": []
    },
    {
      "cell_type": "code",
      "metadata": {
        "id": "yVcB-15uap3D"
      },
      "source": [
        "cleanup={\n",
        "    'Finding survey': {np.nan: 'Whatsapp' },\n",
        "    'Area': {np.nan: 'Urban' },\n",
        "    'Occupation': {np.nan: 'Computer and Mathematical'},\n",
        "    'Inclination to Substance Abuse - Alcohol': {np.nan: 'Not At All'},\n",
        "    'Inclination to Substance Abuse - Smoking': {np.nan: 'Not At All'},\n",
        "    'Inclination to Substance Abuse - Tobacco': {np.nan: 'Not At All'},\n",
        "    'Inclination to Substance Abuse - Drugs': {np.nan: 'Not At All'}\n",
        "}"
      ],
      "execution_count": 110,
      "outputs": []
    },
    {
      "cell_type": "code",
      "metadata": {
        "id": "E85bxBi_cdOQ"
      },
      "source": [
        "cleanup={\n",
        "    'Difficulty level to manage daily/household expenses' : {np.nan: 3.0 }\n",
        "}"
      ],
      "execution_count": 112,
      "outputs": []
    },
    {
      "cell_type": "code",
      "metadata": {
        "id": "v3-iC_dWcwN2"
      },
      "source": [
        "cleanup={\n",
        "    'Additional Diseases': {np.nan : 'Not Applicable'}\n",
        "}"
      ],
      "execution_count": 114,
      "outputs": []
    },
    {
      "cell_type": "code",
      "metadata": {
        "id": "R2q-eye7dEv-"
      },
      "source": [
        "cleanup={\n",
        "    'Occupation': { 'Engineering': 'Architecture and Engineering',\n",
        "                   'Data Science & Engineering': 'Computer and Mathematical',\n",
        "                   'VLSI':'Architecture and Engineering',\n",
        "                   'Student': 'Computer and Mathematical',\n",
        "                   'Computer Science Engineering Student':'Computer and Mathematical',\n",
        "                   'I am currently not working': 'None',\n",
        "                   'Unemployed':'None',\n",
        "                   'Student ':'Architecture and Engineering',\n",
        "                   'Construction and Extractionion': 'Construction and Extraction',\n",
        "                   'Engineering student' : 'Architecture and Engineering',\n",
        "                    'Iam an undergraduate student' : 'Computer and Mathematical',\n",
        "                     'student': 'Architecture and Engineering',\n",
        "                     'Study': 'Architecture and Engineering',\n",
        "                   'Engineering student ': 'Architecture and Engineering'\n",
        "                   }\n",
        "}"
      ],
      "execution_count": 116,
      "outputs": []
    },
    {
      "cell_type": "code",
      "metadata": {
        "id": "8BZHJTQQr-eU"
      },
      "source": [
        "cleanup={\n",
        "    'Level of Education': {'Diploma in computer technology ':'Vocational Training'}\n",
        "}"
      ],
      "execution_count": 150,
      "outputs": []
    },
    {
      "cell_type": "code",
      "metadata": {
        "id": "oA4LnGCdcU_C"
      },
      "source": [
        "df=df.replace(cleanup)"
      ],
      "execution_count": 151,
      "outputs": []
    },
    {
      "cell_type": "code",
      "metadata": {
        "colab": {
          "base_uri": "https://localhost:8080/"
        },
        "id": "yxbLbf9_c_JP",
        "outputId": "2789b084-deac-4d2a-d007-9f417813155d"
      },
      "source": [
        "df['Level of Education'].unique()"
      ],
      "execution_count": 152,
      "outputs": [
        {
          "output_type": "execute_result",
          "data": {
            "text/plain": [
              "array(['PhD', '12th Grade or SSC', 'Bachelor’s degree', 'Master’s degree',\n",
              "       'Vocational Training'], dtype=object)"
            ]
          },
          "metadata": {},
          "execution_count": 152
        }
      ]
    },
    {
      "cell_type": "code",
      "metadata": {
        "colab": {
          "base_uri": "https://localhost:8080/"
        },
        "id": "4meswIl3bMuU",
        "outputId": "e8c3c174-5206-4ad4-8a9f-645816bc108f"
      },
      "source": [
        "df['Difficulty level to manage daily/household expenses'].value_counts().nlargest(n=1)"
      ],
      "execution_count": 61,
      "outputs": [
        {
          "output_type": "execute_result",
          "data": {
            "text/plain": [
              "3.0    61\n",
              "Name: Difficulty level to manage daily/household expenses, dtype: int64"
            ]
          },
          "metadata": {},
          "execution_count": 61
        }
      ]
    },
    {
      "cell_type": "code",
      "metadata": {
        "colab": {
          "base_uri": "https://localhost:8080/"
        },
        "id": "gkM3bdY8KLeN",
        "outputId": "638b7bdf-492b-4972-dd7e-ae3cda2d32a2"
      },
      "source": [
        "df.DepressionScale.unique()"
      ],
      "execution_count": 12,
      "outputs": [
        {
          "output_type": "execute_result",
          "data": {
            "text/plain": [
              "array([17,  8, 29, 23, 18, 22,  0,  1,  3,  6, 81, 13,  9, 14,  4, 30, 35,\n",
              "       25, 48, 39,  5, 61, 37, 15, 56, 73, 40, 34, 20, 11, 47, 16, 50, 32,\n",
              "       26, 51,  2, 66, 36, 62, 10, 24, 41, 63, 72, 27, 90, 42, 58, 67, 55,\n",
              "        7, 69, 19, 64, 43, 75, 86, 21, 60, 57, 38])"
            ]
          },
          "metadata": {},
          "execution_count": 12
        }
      ]
    },
    {
      "cell_type": "code",
      "metadata": {
        "colab": {
          "base_uri": "https://localhost:8080/"
        },
        "id": "591gsPCpKYwD",
        "outputId": "10c2fbf6-11bc-43f5-ead6-9f1e3443f045"
      },
      "source": [
        "df.DepressionScale.value_counts()"
      ],
      "execution_count": 13,
      "outputs": [
        {
          "output_type": "execute_result",
          "data": {
            "text/plain": [
              "0     10\n",
              "8      8\n",
              "4      7\n",
              "5      7\n",
              "17     7\n",
              "      ..\n",
              "86     1\n",
              "48     1\n",
              "38     1\n",
              "41     1\n",
              "90     1\n",
              "Name: DepressionScale, Length: 62, dtype: int64"
            ]
          },
          "metadata": {},
          "execution_count": 13
        }
      ]
    },
    {
      "cell_type": "code",
      "metadata": {
        "colab": {
          "base_uri": "https://localhost:8080/",
          "height": 310
        },
        "id": "wO5FjkDBKrNN",
        "outputId": "3cd39474-556a-4e2d-c19e-c659a5979aba"
      },
      "source": [
        "df.corr()"
      ],
      "execution_count": 121,
      "outputs": [
        {
          "output_type": "execute_result",
          "data": {
            "text/html": [
              "<div>\n",
              "<style scoped>\n",
              "    .dataframe tbody tr th:only-of-type {\n",
              "        vertical-align: middle;\n",
              "    }\n",
              "\n",
              "    .dataframe tbody tr th {\n",
              "        vertical-align: top;\n",
              "    }\n",
              "\n",
              "    .dataframe thead th {\n",
              "        text-align: right;\n",
              "    }\n",
              "</style>\n",
              "<table border=\"1\" class=\"dataframe\">\n",
              "  <thead>\n",
              "    <tr style=\"text-align: right;\">\n",
              "      <th></th>\n",
              "      <th>No. of Family Members</th>\n",
              "      <th>Inclinination towards exercise per week</th>\n",
              "      <th>Difficulty level to manage daily/household expenses</th>\n",
              "      <th>Affect of Covid on Daily Schedule</th>\n",
              "      <th>DepressionScale</th>\n",
              "    </tr>\n",
              "  </thead>\n",
              "  <tbody>\n",
              "    <tr>\n",
              "      <th>No. of Family Members</th>\n",
              "      <td>1.000000</td>\n",
              "      <td>-0.102987</td>\n",
              "      <td>-0.002604</td>\n",
              "      <td>-0.004365</td>\n",
              "      <td>0.099152</td>\n",
              "    </tr>\n",
              "    <tr>\n",
              "      <th>Inclinination towards exercise per week</th>\n",
              "      <td>-0.102987</td>\n",
              "      <td>1.000000</td>\n",
              "      <td>0.028350</td>\n",
              "      <td>0.166185</td>\n",
              "      <td>-0.229864</td>\n",
              "    </tr>\n",
              "    <tr>\n",
              "      <th>Difficulty level to manage daily/household expenses</th>\n",
              "      <td>-0.002604</td>\n",
              "      <td>0.028350</td>\n",
              "      <td>1.000000</td>\n",
              "      <td>-0.104661</td>\n",
              "      <td>0.402112</td>\n",
              "    </tr>\n",
              "    <tr>\n",
              "      <th>Affect of Covid on Daily Schedule</th>\n",
              "      <td>-0.004365</td>\n",
              "      <td>0.166185</td>\n",
              "      <td>-0.104661</td>\n",
              "      <td>1.000000</td>\n",
              "      <td>-0.164357</td>\n",
              "    </tr>\n",
              "    <tr>\n",
              "      <th>DepressionScale</th>\n",
              "      <td>0.099152</td>\n",
              "      <td>-0.229864</td>\n",
              "      <td>0.402112</td>\n",
              "      <td>-0.164357</td>\n",
              "      <td>1.000000</td>\n",
              "    </tr>\n",
              "  </tbody>\n",
              "</table>\n",
              "</div>"
            ],
            "text/plain": [
              "                                                    No. of Family Members  ...  DepressionScale\n",
              "No. of Family Members                                            1.000000  ...         0.099152\n",
              "Inclinination towards exercise per week                         -0.102987  ...        -0.229864\n",
              "Difficulty level to manage daily/household expe...              -0.002604  ...         0.402112\n",
              "Affect of Covid on Daily Schedule                               -0.004365  ...        -0.164357\n",
              "DepressionScale                                                  0.099152  ...         1.000000\n",
              "\n",
              "[5 rows x 5 columns]"
            ]
          },
          "metadata": {},
          "execution_count": 121
        }
      ]
    },
    {
      "cell_type": "code",
      "metadata": {
        "id": "41hwEaLBnroq"
      },
      "source": [
        "df1=df.copy()"
      ],
      "execution_count": 122,
      "outputs": []
    },
    {
      "cell_type": "markdown",
      "metadata": {
        "id": "uV1L4pcqWO1Q"
      },
      "source": [
        "## Data Visulaisation"
      ]
    },
    {
      "cell_type": "code",
      "metadata": {
        "colab": {
          "base_uri": "https://localhost:8080/",
          "height": 269
        },
        "id": "Qg2Lt3XfLhv5",
        "outputId": "2d5c8cc4-d950-421f-869b-0e5910c349ff"
      },
      "source": [
        "sns.heatmap(df.corr()[['DepressionScale']].sort_values(by='DepressionScale', ascending=False),vmin=-1,vmax=1)\n",
        "plt.show()"
      ],
      "execution_count": 63,
      "outputs": [
        {
          "output_type": "display_data",
          "data": {
            "image/png": "[encoded data removed]",
            "text/plain": [
              "<Figure size 432x288 with 2 Axes>"
            ]
          },
          "metadata": {
            "needs_background": "light"
          }
        }
      ]
    },
    {
      "cell_type": "code",
      "metadata": {
        "id": "ymafumldjAMX"
      },
      "source": [
        "from matplotlib import style\n",
        "style.use('default')"
      ],
      "execution_count": 123,
      "outputs": []
    },
    {
      "cell_type": "code",
      "metadata": {
        "id": "_8p6qZo-f7HN"
      },
      "source": [
        "axarr = df.hist(column='DepressionScale',sharex=True, sharey=True, layout = (2, 2))\n",
        "\n",
        "for ax in axarr.flatten():\n",
        "    ax.set_xlabel(\"Depression Scale\")\n",
        "    ax.set_ylabel(\"Count\")\n",
        "    ax.set_title('Histogram of DepressionScale')"
      ],
      "execution_count": null,
      "outputs": []
    },
    {
      "cell_type": "code",
      "metadata": {
        "id": "TPiSR3aWIE6T"
      },
      "source": [
        "axarr = df.hist(column='No. of Family Members',sharex=True, sharey=True, layout = (1, 1))\n",
        "\n",
        "for ax in axarr.flatten():\n",
        "    ax.set_xlabel(\"No. of Family Members\")\n",
        "    ax.set_ylabel(\"Count\")\n",
        "    ax.set_title('Histogram of No. of Family Members')"
      ],
      "execution_count": null,
      "outputs": []
    },
    {
      "cell_type": "code",
      "metadata": {
        "id": "hFzEP1-WkJtv"
      },
      "source": [
        "axarr = df.hist(column='Inclinination towards exercise per week',sharex=True, sharey=True, layout = (1, 1))\n",
        "\n",
        "for ax in axarr.flatten():\n",
        "    ax.set_xlabel(\"Inclinination towards exercise per week\")\n",
        "    ax.set_ylabel(\"Count\")\n",
        "    ax.set_title('Histogram of Inclinination towards exercise per week')"
      ],
      "execution_count": null,
      "outputs": []
    },
    {
      "cell_type": "code",
      "metadata": {
        "id": "Nn24YsJJkh9o"
      },
      "source": [
        "axarr = df.hist(column='Affect of Covid on Daily Schedule',sharex=True, sharey=True, layout = (1, 1))\n",
        "\n",
        "for ax in axarr.flatten():\n",
        "    ax.set_xlabel(\"Affect of Covid on Daily Schedule\")\n",
        "    ax.set_ylabel(\"Count\")\n",
        "    ax.set_title('Histogram of Affect of Covid on Daily Schedule')"
      ],
      "execution_count": null,
      "outputs": []
    },
    {
      "cell_type": "code",
      "metadata": {
        "id": "fdbBPXqKk70i"
      },
      "source": [
        "axarr = df.hist(column='Age',sharex=True, sharey=True)\n",
        "\n",
        "for ax in axarr.flatten():\n",
        "    ax.set_xlabel(\"Difficulty level to manage daily/household expenses\")\n",
        "    ax.set_ylabel(\"Count\")\n",
        "    ax.set_title('Histogram of Difficulty level to manage daily/household expenses')"
      ],
      "execution_count": null,
      "outputs": []
    },
    {
      "cell_type": "code",
      "metadata": {
        "id": "mcw8tpzmWmwN"
      },
      "source": [
        "plt.figure(figsize=(5,5))\n",
        "df['Gender'].value_counts().plot(kind='bar')\n",
        "plt.title('Bar Graph for Gender')\n",
        "plt.xlabel('Gender')\n",
        "plt.ylabel('Count')\n",
        "plt.xticks(rotation=30, horizontalalignment=\"center\")\n"
      ],
      "execution_count": null,
      "outputs": []
    },
    {
      "cell_type": "code",
      "metadata": {
        "id": "camGBr4tqUIl"
      },
      "source": [
        "plt.figure(figsize=(15,5))\n",
        "df['DepressionScoringRange'].value_counts().plot(kind='bar')\n",
        "plt.title('Bar Graph for Depression Scoring Range')\n",
        "plt.xlabel('DepressionScoringRange')\n",
        "plt.ylabel('Count')\n",
        "plt.xticks(rotation=0, horizontalalignment=\"center\")"
      ],
      "execution_count": null,
      "outputs": []
    },
    {
      "cell_type": "code",
      "metadata": {
        "id": "tW-PC-5CquUy"
      },
      "source": [
        "plt.figure(figsize=(7,5))\n",
        "df['Area'].value_counts().plot(kind='bar')\n",
        "plt.title('Bar Graph for Area')\n",
        "plt.xlabel('Area')\n",
        "plt.ylabel('Count')\n",
        "plt.xticks(rotation=0, horizontalalignment=\"center\")"
      ],
      "execution_count": null,
      "outputs": []
    },
    {
      "cell_type": "code",
      "metadata": {
        "id": "SdxGIetksv1L"
      },
      "source": [
        "plt.figure(figsize=(6,5))\n",
        "df['Marital Status'].value_counts().plot(kind='bar')\n",
        "plt.title('Bar Graph for Marital Status')\n",
        "plt.xlabel('Marital Status')\n",
        "plt.ylabel('Count')\n",
        "plt.xticks(rotation=0, horizontalalignment=\"center\")"
      ],
      "execution_count": null,
      "outputs": []
    },
    {
      "cell_type": "code",
      "metadata": {
        "id": "TXgHeyZsrb_n"
      },
      "source": [
        "plt.figure(figsize=(9,5))\n",
        "df['Level of Education'].value_counts().plot(kind='bar')\n",
        "plt.title('Bar Graph for Level of Education')\n",
        "plt.xlabel('Level of Education')\n",
        "plt.ylabel('Count')\n",
        "plt.xticks(rotation=0, horizontalalignment=\"center\")"
      ],
      "execution_count": null,
      "outputs": []
    },
    {
      "cell_type": "code",
      "metadata": {
        "id": "60JSYDjcsemR"
      },
      "source": [
        "plt.figure(figsize=(9,5))\n",
        "df['Current Employment Status'].value_counts().plot(kind='bar')\n",
        "plt.title('Bar Graph for Current Employment Status')\n",
        "plt.xlabel('Current Employment Status')\n",
        "plt.ylabel('Count')\n",
        "plt.xticks(rotation=0, horizontalalignment=\"center\")"
      ],
      "execution_count": null,
      "outputs": []
    },
    {
      "cell_type": "code",
      "metadata": {
        "id": "Y93n-k94uAlK"
      },
      "source": [
        "plt.figure(figsize=(5,5))\n",
        "df['Death in Family/Friends(due to Covid)'].value_counts().plot(kind='bar')\n",
        "plt.title('Bar Graph for Death in Family/Friends(due to Covid)')\n",
        "plt.xlabel('Death in Family/Friends(due to Covid)')\n",
        "plt.ylabel('Count')\n",
        "plt.xticks(rotation=0, horizontalalignment=\"center\")"
      ],
      "execution_count": null,
      "outputs": []
    },
    {
      "cell_type": "code",
      "metadata": {
        "id": "GO4ViQvRu8Nh"
      },
      "source": [
        "plt.figure(figsize=(8,5))\n",
        "df['No. of hours of sleep per day'].value_counts().plot(kind='bar')\n",
        "plt.title('Bar Graph for No. of hours of sleep per day')\n",
        "plt.xlabel('No. of hours of sleep per day')\n",
        "plt.ylabel('Count')\n",
        "plt.xticks(rotation=0, horizontalalignment=\"center\")\n"
      ],
      "execution_count": null,
      "outputs": []
    },
    {
      "cell_type": "code",
      "metadata": {
        "id": "fT6NxxWc2MYF"
      },
      "source": [
        "df=df.replace(to_replace='Often (Weekly)',value='Often(Weekly)')"
      ],
      "execution_count": 261,
      "outputs": []
    },
    {
      "cell_type": "code",
      "metadata": {
        "id": "LvYQuxt03fF5"
      },
      "source": [
        "df[df.columns[33:37]]"
      ],
      "execution_count": null,
      "outputs": []
    },
    {
      "cell_type": "code",
      "metadata": {
        "id": "9057u5k51yEL"
      },
      "source": [
        "\n",
        "import plot_likert\n",
        "\n",
        "plot_likert.plot_likert(df[df.columns[33:37]], another_scale, plot_percentage=True)"
      ],
      "execution_count": null,
      "outputs": []
    },
    {
      "cell_type": "code",
      "metadata": {
        "id": "gP33z3ZO65Rw"
      },
      "source": [
        "df.to_csv('FinalisedData-HealthSurvey.csv',index=False)"
      ],
      "execution_count": 264,
      "outputs": []
    },
    {
      "cell_type": "code",
      "metadata": {
        "id": "-OJMJDhR44s0"
      },
      "source": [
        "\n",
        "\n",
        "another_scale = \\\n",
        "    ['Not At All',\n",
        "     'Rarely',\n",
        "     'Occassionally',\n",
        "     'Often(Weekly)',\n",
        "     'Almost Daily']\n",
        "\n"
      ],
      "execution_count": 259,
      "outputs": []
    },
    {
      "cell_type": "code",
      "metadata": {
        "id": "BtoxOKkHvUAe"
      },
      "source": [
        "df[df.columns[21:25]]"
      ],
      "execution_count": null,
      "outputs": []
    },
    {
      "cell_type": "code",
      "metadata": {
        "id": "CXnYvKgzDIpg"
      },
      "source": [
        "df=pd.read_csv('/content/FinalisedData-HealthSurvey.csv')"
      ],
      "execution_count": 375,
      "outputs": []
    },
    {
      "cell_type": "markdown",
      "metadata": {
        "id": "SaN1WjtkVd0D"
      },
      "source": [
        "## Data Cleaning (Classification)"
      ]
    },
    {
      "cell_type": "code",
      "metadata": {
        "id": "ATbe1Kb_OvHM"
      },
      "source": [
        "df['DepressionScoringRange']=pd.cut(df['DepressionScale'],bins=[-1,9,17,21,35,53,100],labels=['No Depression Likely','Possibly Mildly Depressed','Borderline Depression','Mild-Moderate Depression','Moderate-Severe Depression','Severely Depressed'])"
      ],
      "execution_count": null,
      "outputs": []
    },
    {
      "cell_type": "code",
      "metadata": {
        "id": "zdFEAmqLRw_0"
      },
      "source": [
        "df=df.drop(columns='DepressionScale')"
      ],
      "execution_count": null,
      "outputs": []
    },
    {
      "cell_type": "code",
      "metadata": {
        "id": "OWxBqM95R0qm"
      },
      "source": [
        "df['DepressionScoringRange']=df['DepressionScoringRange'].astype('object')"
      ],
      "execution_count": null,
      "outputs": []
    },
    {
      "cell_type": "code",
      "metadata": {
        "id": "zRTqpEQsTaMr"
      },
      "source": [
        "df.dtypes"
      ],
      "execution_count": null,
      "outputs": []
    },
    {
      "cell_type": "code",
      "metadata": {
        "colab": {
          "base_uri": "https://localhost:8080/"
        },
        "id": "J9c-qZKWTeij",
        "outputId": "54ef1490-324a-42fa-f12f-beb5051f02d1"
      },
      "source": [
        "df.DepressionScoringRange.unique()"
      ],
      "execution_count": null,
      "outputs": [
        {
          "output_type": "execute_result",
          "data": {
            "text/plain": [
              "array(['Possibly Mildly Depressed', 'No Depression Likely',\n",
              "       'Mild-Moderate Depression', 'Borderline Depression',\n",
              "       'Severely Depressed', 'Moderate-Severe Depression'], dtype=object)"
            ]
          },
          "metadata": {},
          "execution_count": 379
        }
      ]
    },
    {
      "cell_type": "code",
      "metadata": {
        "id": "TvW4RUy3TkW1"
      },
      "source": [
        "df[df.isnull().any(axis=1)]"
      ],
      "execution_count": null,
      "outputs": []
    },
    {
      "cell_type": "code",
      "metadata": {
        "id": "L0lGA9yuSH9R"
      },
      "source": [
        "df.to_csv('FinalisedData-HealthSurvey(Classification).csv')"
      ],
      "execution_count": null,
      "outputs": []
    },
    {
      "cell_type": "markdown",
      "metadata": {
        "id": "Sf3JbqpUV8m7"
      },
      "source": [
        "## Encoding Labels and Data Normalisation"
      ]
    },
    {
      "cell_type": "code",
      "metadata": {
        "id": "uAJYu_DyQ2Fu"
      },
      "source": [
        "df=df.drop(columns='DepressionScale')"
      ],
      "execution_count": null,
      "outputs": []
    },
    {
      "cell_type": "code",
      "metadata": {
        "id": "t-aQRW7p_gI_"
      },
      "source": [
        "df1=df.select_dtypes(include='object')\n",
        "df2=df.select_dtypes(exclude='object')"
      ],
      "execution_count": null,
      "outputs": []
    },
    {
      "cell_type": "code",
      "metadata": {
        "id": "z6xvxnIsRR2o"
      },
      "source": [
        "df.dtypes"
      ],
      "execution_count": null,
      "outputs": []
    },
    {
      "cell_type": "code",
      "metadata": {
        "id": "KjRPvqXiA5Uq"
      },
      "source": [
        "from sklearn.preprocessing import MinMaxScaler\n",
        "from sklearn.preprocessing import LabelEncoder"
      ],
      "execution_count": null,
      "outputs": []
    },
    {
      "cell_type": "code",
      "metadata": {
        "id": "kXtA39X-Br4G"
      },
      "source": [
        "df=pd.read_csv('/content/FinalisedData-HealthSurvey.csv')"
      ],
      "execution_count": null,
      "outputs": []
    },
    {
      "cell_type": "code",
      "metadata": {
        "colab": {
          "base_uri": "https://localhost:8080/"
        },
        "id": "TOSWz7iTCZ6S",
        "outputId": "c7ab877e-67e0-40b6-cbc8-e7058c35ac14"
      },
      "source": [
        "df.DepressionScoringRange.unique()"
      ],
      "execution_count": null,
      "outputs": [
        {
          "output_type": "execute_result",
          "data": {
            "text/plain": [
              "array([4, 3, 1, 0, 6, 5, 2])"
            ]
          },
          "metadata": {},
          "execution_count": 341
        }
      ]
    },
    {
      "cell_type": "code",
      "metadata": {
        "id": "8TEMMHGGAOdU"
      },
      "source": [
        "labelencoder = LabelEncoder()\n",
        "for column in df1.columns:\n",
        "  df[column] = labelencoder.fit_transform(df[column].astype(str))\n",
        "scaler = MinMaxScaler()\n",
        "\n",
        "df[df2.columns] = scaler.fit_transform(df[df2.columns])"
      ],
      "execution_count": null,
      "outputs": []
    },
    {
      "cell_type": "code",
      "metadata": {
        "colab": {
          "base_uri": "https://localhost:8080/"
        },
        "id": "Gf1C7lzQTG-4",
        "outputId": "b7ba570c-5116-4772-ab08-3be4e3a67e34"
      },
      "source": [
        "labelencoder.classes_"
      ],
      "execution_count": null,
      "outputs": [
        {
          "output_type": "execute_result",
          "data": {
            "text/plain": [
              "array(['Borderline Depression', 'Mild-Moderate Depression',\n",
              "       'Moderate-Severe Depression', 'No Depression Likely',\n",
              "       'Possibly Mildly Depressed', 'Severely Depressed'], dtype=object)"
            ]
          },
          "metadata": {},
          "execution_count": 363
        }
      ]
    },
    {
      "cell_type": "markdown",
      "metadata": {
        "id": "XKArqa4IVOLN"
      },
      "source": [
        "## Principal Compnonent Analysis"
      ]
    },
    {
      "cell_type": "code",
      "metadata": {
        "id": "b8i2hHUh_KAX"
      },
      "source": [
        "from sklearn.decomposition import PCA\n",
        "X = df.drop('DepressionScoringRange', axis=1).values\n",
        "y = df['DepressionScoringRange'].values"
      ],
      "execution_count": 369,
      "outputs": []
    },
    {
      "cell_type": "code",
      "metadata": {
        "colab": {
          "base_uri": "https://localhost:8080/"
        },
        "id": "0GYTuBVA_UAl",
        "outputId": "c11a9ed1-15aa-474a-bfe9-0707b8250ab8"
      },
      "source": [
        "\n",
        "pca = PCA(n_components=0.99)\n",
        "x_pca = pca.fit_transform(X)\n",
        "print('No. of features before PCA:',X.shape)\n",
        "print('No. of features after PCA(90% variance):',x_pca.shape)"
      ],
      "execution_count": 374,
      "outputs": [
        {
          "output_type": "stream",
          "name": "stdout",
          "text": [
            "No. of features before PCA: (160, 37)\n",
            "No. of features after PCA(90% variance): (160, 33)\n"
          ]
        }
      ]
    },
    {
      "cell_type": "code",
      "metadata": {
        "id": "ioo0YHauLGLA"
      },
      "source": [
        "df"
      ],
      "execution_count": null,
      "outputs": []
    }
  ]
}